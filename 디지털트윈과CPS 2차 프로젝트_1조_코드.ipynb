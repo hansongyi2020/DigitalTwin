{
 "cells": [
  {
   "cell_type": "markdown",
   "id": "b244af5b",
   "metadata": {},
   "source": [
    "## 1. Initialization"
   ]
  },
  {
   "cell_type": "code",
   "execution_count": 1,
   "id": "3f4c0a9c",
   "metadata": {
    "scrolled": true
   },
   "outputs": [
    {
     "name": "stdout",
     "output_type": "stream",
     "text": [
      "real robot: True\n",
      "simulation robot: True\n"
     ]
    }
   ],
   "source": [
    "import sys\n",
    "import os\n",
    "\n",
    "os.chdir(\"../\")\n",
    "path1 = os.getcwd()\n",
    "\n",
    "os.chdir(\"coppeliasim_utils\")\n",
    "path2 = os.getcwd()\n",
    "\n",
    "\n",
    "sys.path.append(path1)\n",
    "sys.path.append(path2)\n",
    "\n",
    "from indy_utils import indydcp_client as client\n",
    "from coppeliasim_utils import sim\n",
    "\n",
    "from time import sleep\n",
    "import time\n",
    "import json\n",
    "import threading\n",
    "import numpy as np\n",
    "import math\n",
    "import keyboard\n",
    "import threading\n",
    "\n",
    "robot_ip = \"192.168.0.15\"  # Robot (Indy) IP\n",
    "robot_name = \"NRMK-Indy7\"  # Robot name (Indy7)\n",
    "\n",
    "# Create class object (real robot)\n",
    "indy_actual = client.IndyDCPClient(robot_ip, robot_name)\n",
    "\n",
    "# Crate class object (simulation robot)\n",
    "indy_virtual = sim.simxStart('127.0.0.1', 19997, True, True, 5000, 5)\n",
    "\n",
    "# Actual robot (Created: True, Not created: False)\n",
    "# Virtual robot (Created: True, Not created: False)\n",
    "print(\"real robot: {0}\\nsimulation robot: {1}\".format(bool(indy_actual), bool(not indy_virtual)))"
   ]
  },
  {
   "cell_type": "markdown",
   "id": "23c77b09",
   "metadata": {},
   "source": [
    "## 2. 로봇 관절 제어 함수"
   ]
  },
  {
   "cell_type": "code",
   "execution_count": 2,
   "id": "e4312448",
   "metadata": {},
   "outputs": [],
   "source": [
    "import math\n",
    "from math import dist\n",
    "\n",
    "# 각도를 라디안으로 변환하는 함수\n",
    "def degrees_to_radians(degrees):\n",
    "    return math.radians(degrees)\n",
    "\n",
    "# 라디안을 각도로 변환하는 함수\n",
    "def radians_to_degrees(radians):\n",
    "    return math.degrees(radians)\n",
    "\n",
    "# 로봇의 각 관절을 특정 각도로 이동시키는 함수\n",
    "def move_joint_to_angle(jointHandle, targetAngle):\n",
    "    sim.simxSetJointTargetPosition(indy_virtual, jointHandle, targetAngle, sim.simx_opmode_blocking)\n",
    "\n",
    "# 로봇의 6개 관절을 각각 원하는 각도로 이동시키는 예시\n",
    "def move_robot_to_angles(angles):\n",
    "    # 각 관절을 원하는 각도로 이동시킴\n",
    "    for i, angle in enumerate(angles):\n",
    "        move_joint_to_angle(jointHandles[i], angle)"
   ]
  },
  {
   "cell_type": "code",
   "execution_count": 3,
   "id": "1aedd746",
   "metadata": {},
   "outputs": [
    {
     "name": "stdout",
     "output_type": "stream",
     "text": [
      "0 19\n",
      "0 21\n",
      "0 23\n",
      "0 25\n",
      "0 27\n",
      "0 29\n",
      "0 36\n",
      "0 39\n",
      "Connect: Server IP (192.168.0.15)\n"
     ]
    }
   ],
   "source": [
    "# 관절 핸들 선언\n",
    "jointHandles = [0] * 6\n",
    "jointNames = ['joint0', 'joint1', 'joint2', 'joint3', 'joint4', 'joint5']\n",
    "\n",
    "# 관절 핸들 얻기\n",
    "for i, jointName in enumerate(jointNames):\n",
    "    res, jointHandles[i] = sim.simxGetObjectHandle(indy_virtual, jointName, sim.simx_opmode_blocking)\n",
    "    print(res, jointHandles[i])\n",
    "    \n",
    "    \n",
    "# 그리퍼(L, R)의 handle 가져오기\n",
    "res, gripperLHandle = sim.simxGetObjectHandle(indy_virtual, 'joint_R', sim.simx_opmode_blocking)\n",
    "print(res, gripperLHandle)\n",
    "\n",
    "res, gripperRHandle = sim.simxGetObjectHandle(indy_virtual, 'joint_L', sim.simx_opmode_blocking)\n",
    "print(res, gripperRHandle)\n",
    "\n",
    "    \n",
    "### For actual robot\n",
    "indy_actual.connect()\n",
    "\n",
    "# Zero position\n",
    "j_pos_act = [0, 0, 0, 0, 0, 0]\n",
    "indy_actual.joint_move_to(j_pos_act)  # Move 6th joint\n",
    "\n",
    "indy_actual.disconnect()\n",
    "\n",
    "#Zero position\n",
    "j_pos_vir = [0, 0, 0, 0, 0, 0]\n",
    "j_pos_rad = [degrees_to_radians(angle) for angle in j_pos_vir]\n",
    "move_robot_to_angles(j_pos_rad)\n",
    "\n",
    "\n",
    "# for i in range(6):\n",
    "#     object_name = 'joint' + str(i)\n",
    "#     #print(object_name)\n",
    "#     result, handle=sim.simxGetObjectHandle(indy_virtual, object_name, sim.simx_opmode_blocking)\n",
    "#     if result != sim.simx_return_ok:\n",
    "#         raise Exception('could not get object handle for first joint')                \n",
    "#     else:\n",
    "#         handles.append(handle)\n",
    "#         sim.simxSetJointTargetPosition(indy_virtual, handle, j_pos_vir[i]*math.pi/180, sim.simx_opmode_oneshot)"
   ]
  },
  {
   "cell_type": "code",
   "execution_count": 4,
   "id": "a395959d",
   "metadata": {},
   "outputs": [],
   "source": [
    "# 로봇의 각 관절을 특정 각도로 이동시키는 함수\n",
    "def move_gripper_to_angle(jointHandle, targetAngle):\n",
    "    sim.simxSetJointPosition(indy_virtual, jointHandle, targetAngle, sim.simx_opmode_blocking)\n",
    "\n",
    "# 로봇의 6개 관절을 각각 원하는 각도로 이동시키는 예시\n",
    "def move_gripper_to_angles(angles):\n",
    "    # 각 관절을 원하는 각도로 이동시킴\n",
    "    for i, angle in enumerate(angles):\n",
    "        if i == 0:\n",
    "            print(i, gripperLHandle, angle)\n",
    "            move_gripper_to_angle(gripperLHandle, angle)\n",
    "        elif i == 1:    \n",
    "            print(i, gripperRHandle, angle)\n",
    "            move_gripper_to_angle(gripperRHandle, angle)"
   ]
  },
  {
   "cell_type": "markdown",
   "id": "d113a5d4",
   "metadata": {},
   "source": [
    "## 3. Set zero position"
   ]
  },
  {
   "cell_type": "markdown",
   "id": "38ebe83b",
   "metadata": {},
   "source": [
    "## 4. Synchronization (w threaded)"
   ]
  },
  {
   "cell_type": "code",
   "execution_count": 8,
   "id": "622fe967",
   "metadata": {},
   "outputs": [
    {
     "name": "stdout",
     "output_type": "stream",
     "text": [
      "Main Thread\n",
      "Connect: Server IP (192.168.0.15)\n"
     ]
    }
   ],
   "source": [
    "def cps_program():\n",
    "    indy_actual.connect()\n",
    "\n",
    "    isCtrOn = True\n",
    "\n",
    "    while isCtrOn:\n",
    "        j_pos = indy_actual.get_joint_pos()\n",
    "        time.sleep(0.002)\n",
    "\n",
    "        for i in range(6):\n",
    "            sim.simxSetJointTargetPosition(indy_virtual, jointHandles[i] , float(j_pos[i])*math.pi/180 ,sim.simx_opmode_oneshot)\n",
    "\n",
    "        if keyboard.is_pressed(\"q\"):\n",
    "            isCtrOn = False\n",
    "            print(\"Escape the program\")\n",
    "\n",
    "    indy_actual.disconnect()\n",
    "\n",
    "t = threading.Thread(target=cps_program)\n",
    "t.start()\n",
    "print(\"Main Thread\")\n"
   ]
  },
  {
   "cell_type": "markdown",
   "id": "2060c613",
   "metadata": {},
   "source": [
    "## 4-0. 근접센서 값 받기"
   ]
  },
  {
   "cell_type": "code",
   "execution_count": 9,
   "id": "1baa356f",
   "metadata": {},
   "outputs": [
    {
     "name": "stdout",
     "output_type": "stream",
     "text": [
      "0 51\n",
      "0 52\n"
     ]
    }
   ],
   "source": [
    "result, toilet_handle_prx = sim.simxGetObjectHandle(indy_virtual, 'Toilet_Proximity_sensor', sim.simx_opmode_blocking)\n",
    "print(result, toilet_handle_prx)\n",
    "result, sink_handle_prx = sim.simxGetObjectHandle(indy_virtual, 'Sink_Proximity_sensor', sim.simx_opmode_blocking)\n",
    "print(result, sink_handle_prx)"
   ]
  },
  {
   "cell_type": "code",
   "execution_count": 11,
   "id": "5815830d",
   "metadata": {},
   "outputs": [
    {
     "name": "stdout",
     "output_type": "stream",
     "text": [
      "0 [-0.800000011920929, 0.30000001192092896, 0.15000000596046448]\n",
      "0 [-0.17499999701976776, 0.5, 0.4000000059604645]\n"
     ]
    }
   ],
   "source": [
    "#변기 근접센서 위치\n",
    "to_result, toilet_position = sim.simxGetObjectPosition(indy_virtual, toilet_handle_prx,-1, sim.simx_opmode_streaming)\n",
    "print(to_result, toilet_position)\n",
    "\n",
    "#싱크대 근접센서 위치\n",
    "si_result, sink_position = sim.simxGetObjectPosition(indy_virtual, sink_handle_prx,-1, sim.simx_opmode_streaming)\n",
    "print(si_result, sink_position)\n",
    "\n",
    "state = 0# right"
   ]
  },
  {
   "cell_type": "markdown",
   "id": "24845e74",
   "metadata": {},
   "source": [
    "### 4-1. get joint data"
   ]
  },
  {
   "cell_type": "code",
   "execution_count": 12,
   "id": "e0da0ef8",
   "metadata": {},
   "outputs": [],
   "source": [
    "j_pos_1 = [-44.42, -39.88, -50.81, -0.77, -89.19, -45.18] #초기 위치\n",
    "j_pos_2 = [-51.25, -43.29, -82.14, -0.88, -54.23, -51.30] #첫번째 타일 위치\n",
    "j_pos_3 = [-44.42, -39.88, -50.81, -0.77, -89.19, -45.18] #중간 위치1\n",
    "j_pos_4 = [-125.09, -15.33, -73.99, -0.02, -89.35, -34.58] #중간 위치2\n",
    "j_pos_5 = [-120.10, -45.61, -100.56, -0.25, -32.91, -28.71] #부착 위치1\n",
    "j_pos_6 = [-125.09, -15.33, -73.99, -0.02, -89.35, -34.58] #중간 위치2\n",
    "j_pos_7 = [-44.42, -39.88, -50.81, -0.77, -89.19, -45.18] #중간 위치1\n",
    "j_pos_8 = [-44.40, -47.90, -72.60, -0.90, -58.86, -44.76] #두번째 타일 위치\n",
    "j_pos_9 = [-44.42, -39.88, -50.81, -0.77, -89.19, -45.18] #중간 위치1\n",
    "j_pos_9_2 = [30.61, -39.88, -60.81, -0.74, -89.21, -45.18] \n",
    "j_pos_10 = [90.61, -39.88, -60.81, -0.74, -89.21, -45.18] #싱크대 근접센서 작동 위치\n",
    "j_pos_10_2 = [10.09, -15.33, -73.99, -0.02, -89.35, -34.58]\n",
    "j_pos_10_3 = [-60.09, -15.33, -73.99, -0.02, -89.35, -34.58]\n",
    "j_pos_11 = [-125.09, -15.33, -73.99, -0.02, -89.35, -34.58] #중간 위치2\n",
    "j_pos_12 = [-125.07, -42.39, -109.41, -0.04, -26.88, -34.55] #부착 위치2\n",
    "j_pos_13 = [-125.09, -15.33, -73.99, -0.02, -89.35, -34.58] #중간 위치2\n",
    "j_pos_14 = [-44.42, -39.88, -50.81, -0.77, -89.19, -45.18] #중간 위치1\n",
    "j_pos_15 = [-38.76, -54.50, -58.95, -0.88, -65.37, -38.39] #세번째 타일 위치\n",
    "j_pos_16 = [-44.42, -39.88, -50.81, -0.77, -89.19, -45.18] #중간 위치1\n",
    "j_pos_17 = [-125.09, -15.33, -73.99, -0.02, -89.35, -34.58] #중간 위치2\n",
    "j_pos_18 = [-130.46, -40.05, -115.80, 0.14, -23.25, -39.74] #부착 위치3\n",
    "j_pos_19 = [-125.09, -15.33, -73.99, -0.02, -89.35, -34.58] #중간 위치2\n",
    "j_pos_20 = [-44.42, -39.88, -50.81, -0.77, -89.19, -45.18] #초기 위치\n",
    "\n",
    "j_pos = [j_pos_1, j_pos_2, j_pos_3, j_pos_4, j_pos_5, j_pos_6, j_pos_7, j_pos_8, j_pos_9, j_pos_9_2, j_pos_10, j_pos_10_2, j_pos_10_3, j_pos_11, j_pos_12, j_pos_13, j_pos_14, j_pos_15, j_pos_16, j_pos_17, j_pos_18, j_pos_19, j_pos_20]\n",
    "# j_pos = [j_pos_8, j_pos_9, j_pos_9_2, j_pos_10, j_pos_10_2,j_pos_10_3, j_pos_11, j_pos_12, j_pos_13, j_pos_14, j_pos_15, j_pos_16, j_pos_17, j_pos_18, j_pos_19, j_pos_20]\n",
    "\n",
    "\n",
    "# 그리퍼 이동 각도\n",
    "gripper_hold = [0.012, 0.01]\n",
    "gripper_release = [0.00, 0.00]\n",
    "\n",
    "\n",
    "# j = 0\n",
    "# for i in j_pos:\n",
    "#     print(i)\n",
    "#     j += 1\n",
    "#     print(j)\n"
   ]
  },
  {
   "cell_type": "code",
   "execution_count": 13,
   "id": "ea20c302",
   "metadata": {},
   "outputs": [],
   "source": [
    "def toilet(detected_THandle, j_pos_component):      \n",
    "    #감지된 물체 위치\n",
    "    detected_T_result, detected_T_position = sim.simxGetObjectPosition(indy_virtual, detected_THandle,-1, sim.simx_opmode_streaming)\n",
    "    print(detected_T_position)\n",
    "    \n",
    "    #물체와 변기 사이 거리\n",
    "    distance = math.dist(detected_T_position, toilet_position)\n",
    "    \n",
    "    #위치 조정\n",
    "    NewX = detected_T_position[0] + 30 * math.cos(-60/180*3.14)\n",
    "    NewY = detected_T_position[1] + 30 * math.sin(-60/180*3.14)\n",
    "    print(NewX, NewY)\n",
    "    newPosition = [NewX, NewY, detected_T_position[2]]\n",
    "\n",
    "    #새로 구한 거리가 더 작을 때, 오른쪽으로 이동\n",
    "    if(distance > dist(toilet_position, newPosition)):\n",
    "        state = 0\n",
    "    else:\n",
    "        state = 1# left   \n",
    "\n",
    "    if(state):#right\n",
    "        #오른쪽으로 이동\n",
    "        print(\"오른쪽으로 이동\")\n",
    "        j_pos_component[0] = j_pos_component[0] + 30  \n",
    "        indy_actual.joint_move_to(j_pos_component)\n",
    "        j_pos_a = indy_actual.get_joint_pos()\n",
    "        print(j_pos_a)\n",
    "        j_pos_a_rad = [degrees_to_radians(angle) for angle in j_pos_a]\n",
    "        move_robot_to_angles(j_pos_a_rad) \n",
    "        time.sleep(3)       \n",
    "\n",
    "\n",
    "    else:#left\n",
    "        #왼쪽으로 이동\n",
    "        print(\"왼쪽으로 이동\")\n",
    "        j_pos_component[0] = j_pos_component[0] - 30  \n",
    "        indy_actual.joint_move_to(j_pos_component)\n",
    "        j_pos_a = indy_actual.get_joint_pos()\n",
    "        print(j_pos_a)\n",
    "        j_pos_a_rad = [degrees_to_radians(angle) for angle in j_pos_a]\n",
    "        move_robot_to_angles(j_pos_a_rad) \n",
    "        time.sleep(3)       \n"
   ]
  },
  {
   "cell_type": "code",
   "execution_count": 14,
   "id": "7a5a5c05",
   "metadata": {},
   "outputs": [],
   "source": [
    "def sink(detected_SHandle, j_pos_component):    \n",
    "    detected_S_result, detected_S_position = sim.simxGetObjectPosition(indy_virtual, detected_SHandle,-1, sim.simx_opmode_streaming)\n",
    "    print(detected_S_position)\n",
    "\n",
    "    distance = dist(detected_S_position, sink_position)\n",
    "\n",
    "    NewX = detected_S_position[0] + 30 * math.cos(-60/180*3.14)\n",
    "    NewY = detected_S_position[1] + 30 * math.sin(-60/180*3.14)\n",
    "    print(NewX, NewY)\n",
    "\n",
    "    newPosition = [NewX, NewY,detected_S_position[2]]\n",
    "/\n",
    "    if(distance > dist(sink_position, newPosition)):\n",
    "        state = 1\n",
    "    else:\n",
    "        state = 0# left   \n",
    "\n",
    "    if(state):\n",
    "        #오른쪽으로 이동\n",
    "        print(\"오른쪽으로 이동\")\n",
    "        j_pos_component[0] = j_pos_component[0] + 30  \n",
    "        indy_actual.joint_move_to(j_pos_component)\n",
    "        j_pos_a = indy_actual.get_joint_pos()\n",
    "        print(j_pos_a)\n",
    "        j_pos_a_rad = [degrees_to_radians(angle) for angle in j_pos_a]\n",
    "        move_robot_to_angles(j_pos_a_rad) \n",
    "        time.sleep(3)       \n",
    "    else:\n",
    "        #왼쪽으로 이동\n",
    "        print(\"왼쪽으로 이동\")\n",
    "        j_pos_component[0] = j_pos_component[0] - 30  \n",
    "        indy_actual.joint_move_to(j_pos_component)\n",
    "        j_pos_a = indy_actual.get_joint_pos()\n",
    "        print(j_pos_a)\n",
    "        j_pos_a_rad = [degrees_to_radians(angle) for angle in j_pos_a]\n",
    "        move_robot_to_angles(j_pos_a_rad) \n",
    "        time.sleep(3)       "
   ]
  },
  {
   "cell_type": "code",
   "execution_count": 15,
   "id": "282af525",
   "metadata": {},
   "outputs": [],
   "source": [
    "# #로봇 관절 값 라디안 변환\n",
    "# indy_actual.joint_move_to(j_pos_16)\n",
    "    \n",
    "    \n",
    "# #로봇 관절 값 받기\n",
    "# j_pos_a = indy_actual.get_joint_pos()\n",
    "\n",
    "\n",
    "\n",
    "# #로봇 관절 값 라디안 변환\n",
    "# j_pos_a_rad = [degrees_to_radians(angle) for angle in j_pos_a]\n",
    "# move_robot_to_angles(j_pos_a_rad) \n",
    "    \n",
    "\n",
    "endtool_type = 0\n",
    "indy_actual.set_endtool_do(endtool_type, 1)"
   ]
  },
  {
   "cell_type": "code",
   "execution_count": 16,
   "id": "385cfdfb",
   "metadata": {
    "scrolled": true
   },
   "outputs": [
    {
     "name": "stdout",
     "output_type": "stream",
     "text": [
      "가상 [-0.000408582450929779, -0.0, 4.539805010330878e-05, -5.438776299505309e-05, 5.438776299505309e-05, -5.438776299505309e-05]\n",
      "실제 [-44.42, -39.88, -50.81, -0.77, -89.19, -45.18]\n",
      "False 0\n",
      "가상 [-44.42952810240478, -39.89122122772732, -50.81549021823682, -0.7668674582302486, -89.19255927058137, -45.18372186340025]\n",
      "실제 [-51.25, -43.29, -82.14, -0.88, -54.23, -51.3]\n",
      "0 36 0.012\n",
      "1 39 0.01\n",
      "False 50\n",
      "가상 [-51.25035814017642, -43.282727958745106, -82.14014478951988, -0.8791238010520381, -54.23047358447139, -51.30006091429793]\n",
      "실제 [-44.42, -39.88, -50.81, -0.77, -89.19, -45.18]\n",
      "False 0\n",
      "가상 [-44.41690744447607, -39.882686394307896, -50.80736396726833, -0.7692061320390358, -89.19043814782457, -45.17888135249369]\n",
      "실제 [-125.09, -15.33, -73.99, -0.02, -89.35, -34.58]\n",
      "False 0\n",
      "가상 [-125.10240791258572, -15.329559578384275, -73.98679118511593, -0.018274288366337838, -89.34789072169524, -34.57604134437109]\n",
      "실제 [-120.1, -45.61, -100.56, -0.25, -32.91, -28.71]\n",
      "0 36 0.0\n",
      "1 39 0.0\n",
      "False 0\n",
      "가상 [-120.09745448089635, -45.60433884297821, -100.56231033704175, -0.24898717899135303, -32.91008977606962, -28.709559676672686]\n",
      "실제 [-125.09, -15.33, -73.99, -0.02, -89.35, -34.58]\n",
      "False 0\n",
      "가상 [-125.1006373886317, -15.325973132426112, -73.98334093330807, -0.019688370204209216, -89.35126276300093, -34.58088185527765]\n",
      "실제 [-44.42, -39.88, -50.81, -0.77, -89.19, -45.18]\n",
      "False 0\n",
      "가상 [-44.40401439824673, -39.891402819927734, -50.809815461973905, -0.7681183767791347, -89.19310314821132, -45.18187267945842]\n",
      "실제 [-44.4, -47.9, -72.6, -0.9, -58.86, -44.76]\n",
      "0 36 0.012\n",
      "1 39 0.01\n",
      "False 0\n",
      "가상 [-44.40292484504425, -47.89930107180068, -72.58049578706573, -0.8976156404703561, -58.87518854424893, -44.75906220993488]\n",
      "실제 [-44.42, -39.88, -50.81, -0.77, -89.19, -45.18]\n",
      "False 0\n",
      "가상 [-44.41749761912741, -39.879780919101286, -50.807000782867505, -0.769423683091016, -89.19022059677258, -45.17860941367872]\n",
      "실제 [30.61, -39.88, -60.81, -0.74, -89.21, -45.18]\n",
      "False 0\n",
      "가상 [30.620939396631666, -39.881233656704595, -60.80905378357839, -0.7408701075186132, -89.20800539527197, -45.17855502591573]\n",
      "실제 [90.61, -39.88, -60.81, -0.74, -89.21, -45.18]\n",
      "False 50\n",
      "싱크대 근접센서 켁켓...\n",
      "j_pos_component [90.61, -39.88, -60.81, -0.74, -89.21, -45.18]\n",
      "[0.0, 0.0, 0.0]\n",
      "15.013790670246173 -25.97279518477033\n",
      "왼쪽으로 이동\n",
      "[90.61133014269708, -39.88118825865449, -60.808282016726636, -0.7404350054146527, -89.20735274211603, -45.178500638152734]\n",
      "가상 [60.61125447927827, -39.8786913658988, -60.809235375778805, -0.7402718421256675, -89.20925631382084, -45.178663801441715]\n",
      "실제 [10.09, -15.33, -73.99, -0.02, -89.35, -34.58]\n",
      "True 44\n",
      "가상 [10.085585412900976, -15.328016044680762, -73.98738135976727, -0.01887255375928342, -89.34680296643535, -34.57805369160191]\n",
      "실제 [-60.09, -15.33, -73.99, -0.02, -89.35, -34.58]\n",
      "False 0\n",
      "가상 [-60.10284171617131, -15.329014801783035, -73.985066059212, -0.01881816599628837, -89.34555204788646, -34.57756420173495]\n",
      "실제 [-125.09, -15.33, -73.99, -0.02, -89.35, -34.58]\n",
      "False 0\n",
      "가상 [-125.09160317666114, -15.331784082839338, -73.98828932076934, -0.019470819152229004, -89.34517133354548, -34.57756420173495]\n",
      "실제 [-125.07, -42.39, -109.41, -0.04, -26.88, -34.55]\n",
      "0 36 0.0\n",
      "1 39 0.0\n",
      "False 0\n",
      "가상 [-125.07594084937551, -42.390293089814264, -109.41034490412653, -0.039594291460398646, -26.880336043860062, -34.551730014312305]\n",
      "실제 [-125.09, -15.33, -73.99, -0.02, -89.35, -34.58]\n",
      "False 50\n",
      "가상 [-125.07916411093282, -15.328152238831072, -73.98352252550849, -0.02072173770111523, -89.35142592628992, -34.577781752786926]\n",
      "실제 [-44.42, -39.88, -50.81, -0.77, -89.19, -45.18]\n",
      "False 50\n",
      "가상 [-44.40660208710262, -39.89085804332649, -50.80754555946874, -0.7679552134901495, -89.19255927058137, -45.1810024752505]\n",
      "실제 [-38.76, -54.5, -58.95, -0.88, -65.37, -38.39]\n",
      "0 36 0.012\n",
      "1 39 0.01\n",
      "False 50\n",
      "가상 [-38.76566737151598, -54.50362780862962, -58.94895947669552, -0.8794501276300084, -65.37022958888116, -38.389928836636194]\n",
      "실제 [-44.42, -39.88, -50.81, -0.77, -89.19, -45.18]\n",
      "False 50\n",
      "가상 [-44.42058468653444, -39.8772386282955, -50.80759095751884, -0.769369295328021, -89.18962233137964, -45.18132880182847]\n",
      "실제 [-125.09, -15.33, -73.99, -0.02, -89.35, -34.58]\n",
      "False 50\n",
      "가상 [-125.1033158735878, -15.330376743286134, -73.98742675781737, -0.018437451655322998, -89.34854337485119, -34.57615011989708]\n",
      "실제 [-130.46, -40.05, -115.8, 0.14, -23.25, -39.74]\n",
      "0 36 0.0\n",
      "1 39 0.0\n",
      "False 0\n",
      "가상 [-130.4641900180871, -40.051476344592, -115.79903090296477, 0.1406467551052073, -23.250551129333214, -39.74043137956635]\n",
      "실제 [-125.09, -15.33, -73.99, -0.02, -89.35, -34.58]\n",
      "False 0\n",
      "가상 [-125.08111622708726, -15.328197636881177, -73.98284155475694, -0.015065410349629705, -89.35142592628992, -34.577292262919975]\n",
      "실제 [-44.42, -39.88, -50.81, -0.77, -89.19, -45.18]\n",
      "False 0\n"
     ]
    }
   ],
   "source": [
    "\n",
    "for j_pos_component in j_pos:  \n",
    "    #로봇 이동\n",
    "    indy_actual.joint_move_to(j_pos_component)\n",
    "    \n",
    "    \n",
    "    #로봇 관절 값 받기\n",
    "    j_pos_a = indy_actual.get_joint_pos()\n",
    "    print('가상', j_pos_a)\n",
    "    print('실제', j_pos_component)   \n",
    "    \n",
    "    \n",
    "    #로봇 관절 값 라디안 변환\n",
    "    j_pos_a_rad = [degrees_to_radians(angle) for angle in j_pos_a]\n",
    "    move_robot_to_angles(j_pos_a_rad)\n",
    "    \n",
    "    time.sleep(3)\n",
    "    \n",
    "    ## 그리퍼\n",
    "    # endtool_type:\n",
    "    # 0: NPN, 1: PNP, 2: Not use, 3: eModi\n",
    "    endtool_type = 0\n",
    "\n",
    "    if (j_pos_component == j_pos_2) or (j_pos_component == j_pos_8) or (j_pos_component == j_pos_15):\n",
    "        indy_actual.set_endtool_do(endtool_type, 0)\n",
    "        time.sleep(1)\n",
    "        move_gripper_to_angles(gripper_hold)\n",
    "    elif (j_pos_component == j_pos_5) or (j_pos_component == j_pos_12) or (j_pos_component == j_pos_18):\n",
    "        indy_actual.set_endtool_do(endtool_type, 1)\n",
    "        time.sleep(1)\n",
    "        move_gripper_to_angles(gripper_release)\n",
    "    ##\n",
    "    \n",
    "    \n",
    "    #변기 근접 센서 값 받기\n",
    "    toilet_result = sim.simxReadProximitySensor(indy_virtual, toilet_handle_prx, sim.simx_opmode_blocking)\n",
    "    detected_THandle = toilet_result[3]\n",
    "    \n",
    "#     if(j_pos_component == j_pos_10):\n",
    "#         print(\"변기 근접센서 켁켓...\")\n",
    "#         toilet(detected_THandle, j_pos_component)\n",
    "        \n",
    "    #싱크대 근접센서 값\n",
    "    sink_result = sim.simxReadProximitySensor(indy_virtual, sink_handle_prx, sim.simx_opmode_oneshot)\n",
    "    print(sink_result[1], sink_result[3])\n",
    "    detected_SHandle = sink_result[3]\n",
    "    \n",
    "    if(j_pos_component == j_pos_10):\n",
    "        print(\"싱크대 근접센서 켁켓...\")\n",
    "        print(\"j_pos_component\", j_pos_component)\n",
    "        sink(detected_SHandle, j_pos_10)\n",
    "        time.sleep(3)\n"
   ]
  },
  {
   "cell_type": "markdown",
   "id": "b7ed31cf",
   "metadata": {},
   "source": [
    "## Communication reset"
   ]
  },
  {
   "cell_type": "code",
   "execution_count": null,
   "id": "f1f953e3",
   "metadata": {},
   "outputs": [],
   "source": [
    "# Reset TCP-IP communication (real robot)\n",
    "# For real robot\n",
    "indy_actual.connect()\n",
    "indy_actual.disconnect()\n",
    "\n",
    "# For simulation robot\n",
    "sim.simxFinish(indy_virtual)"
   ]
  },
  {
   "cell_type": "code",
   "execution_count": null,
   "id": "081cd5b9",
   "metadata": {},
   "outputs": [],
   "source": [
    "# endtool_type:\n",
    "# 0: NPN, 1: PNP, 2: Not use, 3: eModi\n",
    "\n",
    "endtool_type = 0\n",
    "indy_actual.set_endtool_do(endtool_type, 1)  # val: 0(off), 1(on)\n",
    "sleep(1)\n",
    "indy_actual.get_endtool_do(endtool_type)"
   ]
  }
 ],
 "metadata": {
  "kernelspec": {
   "display_name": "Python 3",
   "language": "python",
   "name": "python3"
  },
  "language_info": {
   "codemirror_mode": {
    "name": "ipython",
    "version": 3
   },
   "file_extension": ".py",
   "mimetype": "text/x-python",
   "name": "python",
   "nbconvert_exporter": "python",
   "pygments_lexer": "ipython3",
   "version": "3.8.8"
  },
  "toc": {
   "base_numbering": 1,
   "nav_menu": {},
   "number_sections": true,
   "sideBar": true,
   "skip_h1_title": false,
   "title_cell": "Table of Contents",
   "title_sidebar": "Contents",
   "toc_cell": false,
   "toc_position": {},
   "toc_section_display": true,
   "toc_window_display": false
  },
  "varInspector": {
   "cols": {
    "lenName": 16,
    "lenType": 16,
    "lenVar": 40
   },
   "kernels_config": {
    "python": {
     "delete_cmd_postfix": "",
     "delete_cmd_prefix": "del ",
     "library": "var_list.py",
     "varRefreshCmd": "print(var_dic_list())"
    },
    "r": {
     "delete_cmd_postfix": ") ",
     "delete_cmd_prefix": "rm(",
     "library": "var_list.r",
     "varRefreshCmd": "cat(var_dic_list()) "
    }
   },
   "types_to_exclude": [
    "module",
    "function",
    "builtin_function_or_method",
    "instance",
    "_Feature"
   ],
   "window_display": false
  }
 },
 "nbformat": 4,
 "nbformat_minor": 5
}
